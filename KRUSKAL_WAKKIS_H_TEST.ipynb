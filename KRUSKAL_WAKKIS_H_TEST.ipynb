{
  "nbformat": 4,
  "nbformat_minor": 0,
  "metadata": {
    "colab": {
      "provenance": []
    },
    "kernelspec": {
      "name": "python3",
      "display_name": "Python 3"
    },
    "language_info": {
      "name": "python"
    }
  },
  "cells": [
    {
      "cell_type": "code",
      "execution_count": null,
      "metadata": {
        "colab": {
          "base_uri": "https://localhost:8080/"
        },
        "id": "lCqs-tPnnFIt",
        "outputId": "7949ff20-07eb-492c-c6ce-37076515e58e"
      },
      "outputs": [
        {
          "output_type": "stream",
          "name": "stdout",
          "text": [
            "Kruskal-Wallis H test statistic: 1.0437275985663075\n",
            "p-value: 0.5934135129650552\n",
            "Fail to reject the null hypothesis, there is no significant difference between groups.\n"
          ]
        }
      ],
      "source": [
        "from scipy.stats import kruskal\n",
        "\n",
        "group1 = [10, 23, 26, 29, 31]\n",
        "group2 = [22, 25, 28, 32, 27]\n",
        "group3 = [12, 35, 45, 26, 29]\n",
        "\n",
        "H, p = kruskal(group1, group2, group3)\n",
        "\n",
        "print(\"Kruskal-Wallis H test statistic:\", H)\n",
        "print(\"p-value:\", p)\n",
        "\n",
        "if p < 0.05:\n",
        "    print(\"Reject the null hypothesis, there is a significant difference between groups.\")\n",
        "else:\n",
        "    print(\"Fail to reject the null hypothesis, there is no significant difference between groups.\")\n"
      ]
    }
  ]
}
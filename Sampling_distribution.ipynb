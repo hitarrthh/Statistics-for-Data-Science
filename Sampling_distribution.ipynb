{
  "nbformat": 4,
  "nbformat_minor": 0,
  "metadata": {
    "colab": {
      "provenance": []
    },
    "kernelspec": {
      "name": "python3",
      "display_name": "Python 3"
    },
    "language_info": {
      "name": "python"
    }
  },
  "cells": [
    {
      "cell_type": "code",
      "execution_count": null,
      "metadata": {
        "id": "OpD9k4vs7sVL"
      },
      "outputs": [],
      "source": [
        "import numpy as np\n",
        "import pandas as pd\n",
        "from scipy.stats import norm\n",
        "import math"
      ]
    },
    {
      "cell_type": "code",
      "source": [
        "mean = 1200\n",
        "sd = 250\n",
        "n = 60\n",
        "x = 1250\n",
        "denominator = sd / np.sqrt(n)\n",
        "numerator = (x-mean)\n",
        "z = numerator / denominator\n",
        "probability = 1 - norm.cdf(z)\n",
        "print(\"Probability that the average lifetime of 60 bulbs exceeds 1250 hours:\", probability)"
      ],
      "metadata": {
        "colab": {
          "base_uri": "https://localhost:8080/"
        },
        "id": "qkw1k7JP9Uda",
        "outputId": "df53cc78-4d58-417a-f493-717c57905d4f"
      },
      "execution_count": null,
      "outputs": [
        {
          "output_type": "stream",
          "name": "stdout",
          "text": [
            "Probability that the average lifetime of 60 bulbs exceeds 1250 hours: 0.06066762517924107\n"
          ]
        }
      ]
    },
    {
      "cell_type": "code",
      "source": [
        "lambda_poisson = 2\n",
        "n = 75\n",
        "upper = 160\n",
        "lower = 120\n",
        "mean = n*lambda_poisson\n",
        "std = np.sqrt(n * lambda_poisson)\n",
        "z1 = (lower - mean) / std\n",
        "z2 = (upper - mean) / std\n",
        "prob = norm.cdf(z2) - norm.cdf(z1)\n",
        "print(\"Probability(120 < Sn < 160) =\", prob)"
      ],
      "metadata": {
        "colab": {
          "base_uri": "https://localhost:8080/"
        },
        "id": "71wvCp0ABxjl",
        "outputId": "5a17058f-c46e-492e-fe39-b63311d35d2c"
      },
      "execution_count": null,
      "outputs": [
        {
          "output_type": "stream",
          "name": "stdout",
          "text": [
            "Probability(120 < Sn < 160) = 0.7857389716610226\n"
          ]
        }
      ]
    },
    {
      "cell_type": "code",
      "source": [
        "variance = 1.5\n",
        "desired_probability = 0.95\n",
        "max_difference = 0.5\n",
        "sigma = math.sqrt(variance)\n",
        "z_score = norm.ppf((1 + desired_probability) / 2)\n",
        "n_required = ((z_score * sigma) / max_difference) ** 2\n",
        "print(\"Required sample size:\", math.ceil(n_required))"
      ],
      "metadata": {
        "colab": {
          "base_uri": "https://localhost:8080/"
        },
        "id": "jRWp0XEvDUNl",
        "outputId": "a56f246b-4841-4f0b-85fd-22123a0ff323"
      },
      "execution_count": null,
      "outputs": [
        {
          "output_type": "stream",
          "name": "stdout",
          "text": [
            "Required sample size: 24\n"
          ]
        }
      ]
    }
  ]
}
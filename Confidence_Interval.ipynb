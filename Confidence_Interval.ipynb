{
  "nbformat": 4,
  "nbformat_minor": 0,
  "metadata": {
    "colab": {
      "provenance": []
    },
    "kernelspec": {
      "name": "python3",
      "display_name": "Python 3"
    },
    "language_info": {
      "name": "python"
    }
  },
  "cells": [
    {
      "cell_type": "code",
      "execution_count": null,
      "metadata": {
        "colab": {
          "base_uri": "https://localhost:8080/"
        },
        "id": "skxB1GYDFQ4b",
        "outputId": "eaa366b6-5a53-4026-b653-f1ca6e14da55"
      },
      "outputs": [
        {
          "output_type": "stream",
          "name": "stdout",
          "text": [
            "0.9331927987311419\n",
            "0.3085375387259869\n",
            "0.8663855974622838\n",
            "0.6170750774519738\n",
            "0.8274412985550443\n"
          ]
        }
      ],
      "source": [
        "import scipy.stats as stats\n",
        "prob_1 = stats.norm.cdf(1.5)\n",
        "prob_2 = 1 - stats.norm.cdf(0.5)\n",
        "prob_3 = stats.norm.cdf(1.5) - stats.norm.cdf(-1.5)\n",
        "prob_4 = (1-stats.norm.cdf(0.5)) * 2\n",
        "prob_5 = stats.norm.cdf(1) - stats.norm.cdf(-2.2)\n",
        "print(prob_1)\n",
        "print(prob_2)\n",
        "print(prob_3)\n",
        "print(prob_4)\n",
        "print(prob_5)"
      ]
    },
    {
      "cell_type": "code",
      "source": [
        "z_1 = stats.norm.ppf(0.90)\n",
        "z_2 = stats.norm.ppf(0.95)\n",
        "z_3 = stats.norm.ppf(0.99)\n",
        "z_4 = stats.norm.ppf(0.90 + (1-0.90)/2)\n",
        "z_5 = stats.norm.ppf(0.95 + (1-0.95)/2)\n",
        "z_6 = stats.norm.ppf(0.99 + (1-0.99)/2)\n",
        "print(z_1)\n",
        "print(z_2)\n",
        "print(z_3)\n",
        "print(z_4)\n",
        "print(z_5)\n",
        "print(z_6)"
      ],
      "metadata": {
        "colab": {
          "base_uri": "https://localhost:8080/"
        },
        "id": "QDdfC4ZWIwJC",
        "outputId": "c769e14a-35d6-46d2-bd38-f70b6cebd5d2"
      },
      "execution_count": null,
      "outputs": [
        {
          "output_type": "stream",
          "name": "stdout",
          "text": [
            "1.2815515655446004\n",
            "1.6448536269514722\n",
            "2.3263478740408408\n",
            "1.6448536269514722\n",
            "1.959963984540054\n",
            "2.5758293035489004\n"
          ]
        }
      ]
    },
    {
      "cell_type": "code",
      "source": [
        "from scipy.stats import t\n",
        "df_1 = 20\n",
        "df_2 = 15\n",
        "df_3 = 25\n",
        "df_4 = 35\n",
        "df_5 = 42\n",
        "prob_t_1 = t.cdf(1.5,df = df_1)\n",
        "prob_t_2 = 1 - t.cdf(0.5,df = df_2)\n",
        "prob_t_3 = t.cdf(1.5,df = df_3)  - t.cdf(-1.5,df=df_3)\n",
        "prob_t_4 = 1 - (t.cdf(0.5,df = df_4)  - t.cdf(-0.5,df=df_4))\n",
        "prob_t_5 = t.cdf(1,df = df_5)  - t.cdf(-2.2,df=df_5)\n",
        "print(prob_t_1)\n",
        "print(prob_t_2)\n",
        "print(prob_t_3)\n",
        "print(prob_t_4)\n",
        "print(prob_t_5)"
      ],
      "metadata": {
        "colab": {
          "base_uri": "https://localhost:8080/"
        },
        "id": "GBOmQJOKKHf9",
        "outputId": "53f911b9-ec21-4e3f-9788-ae8b34dfffcf"
      },
      "execution_count": null,
      "outputs": [
        {
          "output_type": "stream",
          "name": "stdout",
          "text": [
            "0.9253821144153737\n",
            "0.3121650567600378\n",
            "0.8538615348619807\n",
            "0.6202043032354957\n",
            "0.8218007171327162\n"
          ]
        }
      ]
    },
    {
      "cell_type": "code",
      "source": [
        "t_1 = t.ppf(0.90,df=20)\n",
        "t_2 = t.ppf(0.95,df=15)\n",
        "t_3 = t.ppf(0.99,df=25)\n",
        "t_4 = t.ppf(0.90 + (1-0.90)/2,df=30)\n",
        "t_5 = t.ppf(0.95 + (1-0.95)/2,df=42)\n",
        "t_6 = t.ppf(0.99 + (1-0.99)/2,df=10)\n",
        "print(t_1)\n",
        "print(t_2)\n",
        "print(t_3)\n",
        "print(t_4)\n",
        "print(t_5)\n",
        "print(t_6)"
      ],
      "metadata": {
        "colab": {
          "base_uri": "https://localhost:8080/"
        },
        "id": "AeWBhyYnMLzW",
        "outputId": "02687a70-54d7-4c88-9b46-848851b32d08"
      },
      "execution_count": null,
      "outputs": [
        {
          "output_type": "stream",
          "name": "stdout",
          "text": [
            "1.3253407069850462\n",
            "1.7530503556925547\n",
            "2.4851071754106413\n",
            "1.6972608943617378\n",
            "2.018081697095881\n",
            "3.169272667175838\n"
          ]
        }
      ]
    },
    {
      "cell_type": "code",
      "source": [
        "from scipy.stats import f\n",
        "prob_f_1 = f.cdf(1.5,5,14)\n",
        "prob_f_2 = 1 - f.cdf(2.5,15,14)\n",
        "prob_f_3 = f.cdf(4.1,13,17) - f.cdf(0.5,13,17)\n",
        "print(prob_f_1)\n",
        "print(prob_f_2)\n",
        "print(prob_f_3)"
      ],
      "metadata": {
        "colab": {
          "base_uri": "https://localhost:8080/"
        },
        "id": "YuctS2SYN2Gy",
        "outputId": "c58a2b45-dba4-47d7-c334-f50d2269e210"
      },
      "execution_count": null,
      "outputs": [
        {
          "output_type": "stream",
          "name": "stdout",
          "text": [
            "0.7480582329156877\n",
            "0.04734368894060448\n",
            "0.8911203850553827\n"
          ]
        }
      ]
    },
    {
      "cell_type": "code",
      "source": [
        "f_1 = f.ppf(0.90,5,14)\n",
        "f_2 = f.ppf(0.95,15,13)\n",
        "f_3 = f.ppf(0.99,25,28)\n",
        "print(f_1)\n",
        "print(f_2)\n",
        "print(f_3)"
      ],
      "metadata": {
        "colab": {
          "base_uri": "https://localhost:8080/"
        },
        "id": "a35fjyFSPCjI",
        "outputId": "746a2722-f0f1-45fc-edb3-0021ced1df92"
      },
      "execution_count": null,
      "outputs": [
        {
          "output_type": "stream",
          "name": "stdout",
          "text": [
            "2.3069430514007236\n",
            "2.533109983130745\n",
            "2.5060172667359417\n"
          ]
        }
      ]
    },
    {
      "cell_type": "code",
      "source": [
        "from scipy.stats import chi2\n",
        "prob_chi_1 = chi2.cdf(1.5,10)\n",
        "prob_chi_2 = 1 - chi2.cdf(2.5,5)\n",
        "prob_chi_3 = chi2.cdf(4.1,2) - chi2.cdf(0.5,2)\n",
        "print(prob_chi_1)\n",
        "print(prob_chi_2)\n",
        "print(prob_chi_3)"
      ],
      "metadata": {
        "colab": {
          "base_uri": "https://localhost:8080/"
        },
        "id": "aPG7qC_ePmah",
        "outputId": "77c18bef-59c0-4444-db12-97e1ce139944"
      },
      "execution_count": null,
      "outputs": [
        {
          "output_type": "stream",
          "name": "stdout",
          "text": [
            "0.0010646777727857928\n",
            "0.7764950711233227\n",
            "0.6500658794836006\n"
          ]
        }
      ]
    },
    {
      "cell_type": "code",
      "source": [
        "chi_1 = chi2.ppf(0.90,1)\n",
        "chi_2 = chi2.ppf(0.95,3)\n",
        "chi_3 = chi2.ppf(0.99,2)\n",
        "chi_4 = chi2.ppf(0.05,1)\n",
        "chi_5 = chi2.ppf(0.025,3)\n",
        "chi_6 = chi2.ppf(0.005,2)\n",
        "print(chi_1)\n",
        "print(chi_2)\n",
        "print(chi_3)\n",
        "print(chi_4)\n",
        "print(chi_5)\n",
        "print(chi_6)"
      ],
      "metadata": {
        "colab": {
          "base_uri": "https://localhost:8080/"
        },
        "id": "xOQEJvsYQRY-",
        "outputId": "dba06d49-1934-4b42-fcc3-81a2898142d1"
      },
      "execution_count": null,
      "outputs": [
        {
          "output_type": "stream",
          "name": "stdout",
          "text": [
            "2.705543454095404\n",
            "7.814727903251179\n",
            "9.21034037197618\n",
            "0.003932140000019522\n",
            "0.21579528262389785\n",
            "0.010025083647088564\n"
          ]
        }
      ]
    },
    {
      "cell_type": "code",
      "source": [
        "import scipy.stats as stats\n",
        "mean = 101.82\n",
        "sd = 1.2\n",
        "n = 6\n",
        "cf = 0.95\n",
        "z = stats.norm.ppf((1+cf)/2)\n",
        "standard_error = sd / (n**0.5)\n",
        "margin_error = z * standard_error\n",
        "ll = mean - margin_error\n",
        "ul = mean + margin_error\n",
        "print(\"INTERVAL:\")\n",
        "print(\"LOWER LIMIT\",ll)\n",
        "print(\"UPPER LIMIT\",ul)"
      ],
      "metadata": {
        "colab": {
          "base_uri": "https://localhost:8080/"
        },
        "id": "DAdm-P8XRM42",
        "outputId": "b844057e-26b5-459b-f2eb-d485594487cb"
      },
      "execution_count": null,
      "outputs": [
        {
          "output_type": "stream",
          "name": "stdout",
          "text": [
            "INTERVAL:\n",
            "LOWER LIMIT 100.85981766472894\n",
            "UPPER LIMIT 102.78018233527105\n"
          ]
        }
      ]
    },
    {
      "cell_type": "code",
      "source": [
        "import numpy as np\n",
        "from scipy.stats import t\n",
        "data = [45,55,67,45,68,79,98,87,84,82]\n",
        "mean = np.mean(data)\n",
        "n = len(data)\n",
        "sd = np.std(data,ddof=1)\n",
        "cf = 0.98\n",
        "t = t.ppf((1+cf)/2,df = n-1)\n",
        "standard_error = sd / (n**0.5)\n",
        "margin_error = t * standard_error\n",
        "ll = mean - margin_error\n",
        "ul = mean + margin_error\n",
        "print(\"INTERVAL:\")\n",
        "print(\"LOWER LIMIT\",ll)\n",
        "print(\"UPPER LIMIT\",ul)"
      ],
      "metadata": {
        "colab": {
          "base_uri": "https://localhost:8080/"
        },
        "id": "TQyoUHlBTXzy",
        "outputId": "4d06867f-693f-44bf-ea6c-60703d849e00"
      },
      "execution_count": null,
      "outputs": [
        {
          "output_type": "stream",
          "name": "stdout",
          "text": [
            "INTERVAL:\n",
            "LOWER LIMIT 54.78661680024991\n",
            "UPPER LIMIT 87.2133831997501\n"
          ]
        }
      ]
    },
    {
      "cell_type": "code",
      "source": [
        "import scipy.stats as stats\n",
        "n = 510\n",
        "cf = 0.90\n",
        "men = 57\n",
        "sample_n = men / n\n",
        "z = stats.norm.ppf((1+cf) / 2)\n",
        "standard_error = np.sqrt((sample_n * (1-sample_n)) / n)\n",
        "margin_error = z * standard_error\n",
        "ll = sample_n - margin_error\n",
        "ul = sample_n + margin_error\n",
        "print(\"INTERVAL:\")\n",
        "print(\"LOWER LIMIT\",ll)\n",
        "print(\"UPPER LIMIT\",ul)"
      ],
      "metadata": {
        "colab": {
          "base_uri": "https://localhost:8080/"
        },
        "id": "FEMYZURTUls6",
        "outputId": "9547a9e1-e8cf-4026-fec1-27c35cace67b"
      },
      "execution_count": null,
      "outputs": [
        {
          "output_type": "stream",
          "name": "stdout",
          "text": [
            "INTERVAL:\n",
            "LOWER LIMIT 0.08881598300884237\n",
            "UPPER LIMIT 0.13471342875586353\n"
          ]
        }
      ]
    }
  ]
}
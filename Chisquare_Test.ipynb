{
  "cells": [
    {
      "cell_type": "code",
      "execution_count": null,
      "metadata": {
        "id": "flbdWFidH0cx"
      },
      "outputs": [],
      "source": [
        "import pandas as pd\n",
        "\n",
        "# Read the Titanic dataset\n",
        "data = pd.read_csv(\"Titanic-Dataset.csv\")\n",
        "\n",
        "# Question 1: Gender and survival\n",
        "\n",
        "# Contingency table to visualize the relationship\n",
        "gender_survival_table = pd.crosstab(data[\"Sex\"], data[\"Survived\"])\n",
        "print(gender_survival_table)\n",
        "\n",
        "# Chi-square test for statistical significance\n",
        "from scipy.stats import chi2_contingency\n",
        "chi2, p, dof, expected = chi2_contingency(gender_survival_table)\n",
        "print(\"Chi-square test for Gender and Survival:\")\n",
        "print(\"p-value =\", p)"
      ]
    },
    {
      "cell_type": "markdown",
      "metadata": {
        "id": "NwZZ2FQhH0cy"
      },
      "source": [
        "###  Question 2: Class and survival"
      ]
    },
    {
      "cell_type": "code",
      "execution_count": null,
      "metadata": {
        "id": "kwN4zWdpH0cy",
        "outputId": "aaca2e24-6cb2-4e8b-810c-0a31653433e2"
      },
      "outputs": [
        {
          "name": "stdout",
          "output_type": "stream",
          "text": [
            "Survived    0    1\n",
            "Pclass            \n",
            "1          80  136\n",
            "2          97   87\n",
            "3         372  119\n",
            "\n",
            "Chi-square test for Class and Survival:\n",
            "p-value = 4.549251711298793e-23\n"
          ]
        }
      ],
      "source": [
        "# Contingency table\n",
        "class_survival_table = pd.crosstab(data[\"Pclass\"], data[\"Survived\"])\n",
        "print(class_survival_table)\n",
        "\n",
        "# Chi-square test\n",
        "chi2, p, dof, expected = chi2_contingency(class_survival_table)\n",
        "print(\"\\nChi-square test for Class and Survival:\")\n",
        "print(\"p-value =\", p)"
      ]
    },
    {
      "cell_type": "markdown",
      "metadata": {
        "id": "b5oJiPVoH0cz"
      },
      "source": [
        "### Question 3: A table shows the number of men and women buying different types of pets. Can it be concluded that gender and choice of pet are related to each other?"
      ]
    },
    {
      "cell_type": "code",
      "execution_count": null,
      "metadata": {
        "id": "HFLF4Gv5H0cz"
      },
      "outputs": [],
      "source": [
        "from scipy.stats import chi2_contingency\n",
        "\n",
        "# Sample data (replace with your table values)\n",
        "pet_data = [\n",
        "    [\"men\", 207, 282, 241],\n",
        "    [\"women\", 234, 242, 232],\n",
        "]\n",
        "\n",
        "# Contingency table\n",
        "contingency_table = [[row[1], row[2], row[3]] for row in pet_data[1:]]\n",
        "\n",
        "# Perform chi-square test\n",
        "chi2, p, dof, expected = chi2_contingency(contingency_table)\n",
        "\n",
        "# Interpretation\n",
        "if p < 0.05:  # Common significance level\n",
        "    print(\"There is a statistically significant relationship (p-value =\", p, \").\")\n",
        "else:\n",
        "    print(\"No statistically significant relationship (p-value =\", p, \").\")\n"
      ]
    },
    {
      "cell_type": "markdown",
      "metadata": {
        "id": "29vNOcReH0c0"
      },
      "source": [
        "### Question 5: The table below is an exit poll which displays the joint responses to 2 categorical variables: people in categories from 18–29, 30–44, 45–64 and >65 years, and their political affiliation, which is “Conservative”, “Socialist” and “Other”. Create data corresponding to this information. Is there any evidence of a relationship between the age group and their political affiliation, at 5% significant level?"
      ]
    },
    {
      "cell_type": "code",
      "execution_count": null,
      "metadata": {
        "id": "CSyN0BUBH0c0",
        "outputId": "8e8625cd-8700-40c6-f56d-a7876e751ca0"
      },
      "outputs": [
        {
          "name": "stdout",
          "output_type": "stream",
          "text": [
            "There is a statistically significant relationship between age group and political affiliation (p-value = 1.2098468188714877e-13 ).\n"
          ]
        }
      ],
      "source": [
        "from scipy.stats import chi2_contingency\n",
        "\n",
        "# Data corresponding to the exit poll contingency table\n",
        "exit_poll_data = [\n",
        "    [141, 68, 4],\n",
        "    [179, 159, 7],\n",
        "    [7, 20, 8],\n",
        "]\n",
        "\n",
        "# Age groups as row labels\n",
        "age_groups = [\"Conservative\", \"Socialist\", \"Other\"]\n",
        "\n",
        "# Chi-square test\n",
        "chi2, p, dof, expected = chi2_contingency(exit_poll_data)\n",
        "\n",
        "# Interpretation\n",
        "if p < 0.05:  # Significance level at 5%\n",
        "    print(\"There is a statistically significant relationship between age group and political affiliation (p-value =\", p, \").\")\n",
        "else:\n",
        "    print(\"No statistically significant relationship between age group and political affiliation (p-value =\", p, \").\")\n"
      ]
    },
    {
      "cell_type": "markdown",
      "metadata": {
        "id": "oYuXMQl8H0c1"
      },
      "source": [
        "### Question 6: A researcher takes a random sample and pick 123 students about their party affiliation. Out of them 57 vote for party A, 26 vote for party B and 40 for Others. Generally, 41.5% of people vote for the party A, 25.7% for the party B and the remaining 32.8% as Others. Test the hypothesis that sample data follows given distribution."
      ]
    },
    {
      "cell_type": "code",
      "execution_count": null,
      "metadata": {
        "id": "jv0_EVWiH0c2",
        "outputId": "04c75fe9-e165-4aee-fc9f-05966f09aa17"
      },
      "outputs": [
        {
          "name": "stdout",
          "output_type": "stream",
          "text": [
            "We fail to reject the null hypothesis. The sample data may follow the expected distribution (p-value = 1.0 ).\n"
          ]
        }
      ],
      "source": [
        "from scipy.stats import chi2_contingency\n",
        "\n",
        "# Observed counts\n",
        "observed_counts = [57, 26, 40]\n",
        "\n",
        "# Expected counts based on general distribution (multiply by total sample size)\n",
        "expected_counts = [123 * 0.415, 123 * 0.257, 123 * 0.328]\n",
        "\n",
        "# Perform chi-square test\n",
        "chi2, p, dof, expected = chi2_contingency([observed_counts])  # Reshape data for 1 row\n",
        "\n",
        "# Interpretation\n",
        "if p < 0.05:  # Significance level at 5%\n",
        "    print(\"We reject the null hypothesis. The sample data deviates significantly from the expected distribution (p-value =\", p, \").\")\n",
        "else:\n",
        "    print(\"We fail to reject the null hypothesis. The sample data may follow the expected distribution (p-value =\", p, \").\")\n"
      ]
    },
    {
      "cell_type": "markdown",
      "metadata": {
        "id": "WY7SKZMkH0c2"
      },
      "source": [
        "### Question 7: A bulb manufacturer wants to know whether the life of the bulbs follows the normal distribution. Forty bulbs are randomly sampled, and their life, in months, are observed."
      ]
    },
    {
      "cell_type": "code",
      "execution_count": null,
      "metadata": {
        "id": "l30NgNl4H0c3",
        "outputId": "4a77fc03-0a12-4a66-b1b7-7a5bb53521c4"
      },
      "outputs": [
        {
          "name": "stdout",
          "output_type": "stream",
          "text": [
            "The bulb life data significantly deviates from a normal distribution (p-value = 0.0028566094115376472 ).\n"
          ]
        }
      ],
      "source": [
        "import numpy as np\n",
        "from scipy.stats import shapiro\n",
        "\n",
        "# Generate 40 random values between 50 and 150 (example range for bulb life)\n",
        "bulb_life_data = np.random.randint(50, 150, size=40)\n",
        "\n",
        "# Perform Shapiro-Wilk test for normality\n",
        "stat, p = shapiro(bulb_life_data)\n",
        "\n",
        "# Interpretation\n",
        "if p > 0.05:  # Significance level at 5%\n",
        "    print(\"The bulb life data does not significantly deviate from a normal distribution (p-value =\", p, \").\")\n",
        "else:\n",
        "    print(\"The bulb life data significantly deviates from a normal distribution (p-value =\", p, \").\")\n"
      ]
    },
    {
      "cell_type": "markdown",
      "metadata": {
        "id": "J7Q5BJYAH0c3"
      },
      "source": [
        "### Question 8 : Check whether the dice is unbiased. It is tossed 90 times and the counts of outcomes are given in table"
      ]
    },
    {
      "cell_type": "code",
      "execution_count": null,
      "metadata": {
        "id": "DDQCfc_sH0c3",
        "outputId": "9e59d031-62c6-4fa7-f93d-ff299a701af8"
      },
      "outputs": [
        {
          "name": "stdout",
          "output_type": "stream",
          "text": [
            "We fail to reject the null hypothesis. The dice roll results may be from a fair dice (p-value = 1.0 ).\n"
          ]
        }
      ],
      "source": [
        "from scipy.stats import chi2_contingency\n",
        "\n",
        "# Expected counts (assuming a fair dice with 6 sides)\n",
        "expected_counts = [15, 15, 15, 15, 15, 15]\n",
        "\n",
        "# Dice roll counts (replace with your actual data from the table)\n",
        "dice_rolls = [20, 18, 12, 17, 13, 10]  # Example data, replace with yours\n",
        "\n",
        "# Chi-square test\n",
        "chi2, p, dof, expected = chi2_contingency([dice_rolls])\n",
        "\n",
        "# Interpretation\n",
        "if p < 0.05:  # Significance level at 5%\n",
        "    print(\"We reject the null hypothesis. The dice roll results deviate significantly from what we expect from a fair dice (p-value =\", p, \").\")\n",
        "else:\n",
        "    print(\"We fail to reject the null hypothesis. The dice roll results may be from a fair dice (p-value =\", p, \").\")\n"
      ]
    },
    {
      "cell_type": "code",
      "execution_count": null,
      "metadata": {
        "id": "W7osOwDXH0c4"
      },
      "outputs": [],
      "source": []
    }
  ],
  "metadata": {
    "kernelspec": {
      "display_name": "Python 3",
      "language": "python",
      "name": "python3"
    },
    "language_info": {
      "codemirror_mode": {
        "name": "ipython",
        "version": 3
      },
      "file_extension": ".py",
      "mimetype": "text/x-python",
      "name": "python",
      "nbconvert_exporter": "python",
      "pygments_lexer": "ipython3",
      "version": "3.11.3"
    },
    "colab": {
      "provenance": []
    }
  },
  "nbformat": 4,
  "nbformat_minor": 0
}